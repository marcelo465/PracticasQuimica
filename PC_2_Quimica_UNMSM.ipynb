{
  "nbformat": 4,
  "nbformat_minor": 0,
  "metadata": {
    "colab": {
      "provenance": [],
      "include_colab_link": true
    },
    "kernelspec": {
      "name": "python3",
      "display_name": "Python 3"
    },
    "language_info": {
      "name": "python"
    },
    "widgets": {
      "application/vnd.jupyter.widget-state+json": {
        "38cd50802eaf4ad19ef09c3aa9ea6dae": {
          "model_module": "faerun-notebook",
          "model_name": "SmilesDrawerModel",
          "model_module_version": "^0.1.5",
          "state": {
            "_dom_classes": [],
            "_model_module": "faerun-notebook",
            "_model_module_version": "^0.1.5",
            "_model_name": "SmilesDrawerModel",
            "_view_count": null,
            "_view_module": "faerun-notebook",
            "_view_module_version": "^0.1.5",
            "_view_name": "SmilesDrawerView",
            "background": "#1e1e1e",
            "border": true,
            "layout": "IPY_MODEL_016ad5ddfa8d4d04ab71f5dfa71e1077",
            "options": {
              "scale": 1.25
            },
            "output": "svg",
            "theme": "dark",
            "value": [
              [
                "Rxn",
                "CC=CC.O=O>>C(=O)=O.O + 3H2O"
              ]
            ]
          }
        },
        "016ad5ddfa8d4d04ab71f5dfa71e1077": {
          "model_module": "@jupyter-widgets/base",
          "model_name": "LayoutModel",
          "model_module_version": "1.2.0",
          "state": {
            "_model_module": "@jupyter-widgets/base",
            "_model_module_version": "1.2.0",
            "_model_name": "LayoutModel",
            "_view_count": null,
            "_view_module": "@jupyter-widgets/base",
            "_view_module_version": "1.2.0",
            "_view_name": "LayoutView",
            "align_content": null,
            "align_items": null,
            "align_self": null,
            "border": null,
            "bottom": null,
            "display": null,
            "flex": null,
            "flex_flow": null,
            "grid_area": null,
            "grid_auto_columns": null,
            "grid_auto_flow": null,
            "grid_auto_rows": null,
            "grid_column": null,
            "grid_gap": null,
            "grid_row": null,
            "grid_template_areas": null,
            "grid_template_columns": null,
            "grid_template_rows": null,
            "height": null,
            "justify_content": null,
            "justify_items": null,
            "left": null,
            "margin": null,
            "max_height": null,
            "max_width": null,
            "min_height": null,
            "min_width": null,
            "object_fit": null,
            "object_position": null,
            "order": null,
            "overflow": null,
            "overflow_x": null,
            "overflow_y": null,
            "padding": null,
            "right": null,
            "top": null,
            "visibility": null,
            "width": null
          }
        }
      }
    }
  },
  "cells": [
    {
      "cell_type": "markdown",
      "metadata": {
        "id": "view-in-github",
        "colab_type": "text"
      },
      "source": [
        "<a href=\"https://colab.research.google.com/github/marcelo465/PracticasQuimica/blob/main/PC_2_Quimica_UNMSM.ipynb\" target=\"_parent\"><img src=\"https://colab.research.google.com/assets/colab-badge.svg\" alt=\"Open In Colab\"/></a>"
      ]
    },
    {
      "cell_type": "markdown",
      "source": [
        "$$\\Large \\textit{UNMSM | Química}$$\n",
        "$$\\large \\textbf{PC Nº2 | Materia y clasificación}$$\n",
        "\n",
        "_Profesor: Jesus Alvarado Huayhuaz_"
      ],
      "metadata": {
        "id": "sDJAjbaQOj4x"
      }
    },
    {
      "cell_type": "markdown",
      "source": [
        "Todas las indicaciones para la presentación de la práctica son explicadas en clase y brindadas en el material de enunciado de preguntas en formato PDF."
      ],
      "metadata": {
        "id": "_DsTzWLoP7Fy"
      }
    },
    {
      "cell_type": "markdown",
      "source": [
        "## Pregunta 1: DataFrames y listas en python (4 puntos)"
      ],
      "metadata": {
        "id": "obD7c2igOD6t"
      }
    },
    {
      "cell_type": "markdown",
      "source": [
        "Usando PeriodicTable, crea una tabla con 20 elementos químicos y en las columnas considera: nombre, simbolo, masa_atomica, numero_atomico\ty valencias. Puedes ayudarte del siguiente [material](https://github.com/inefable12/UNMSM_quimica_2023/blob/main/Python_para_quimica_2023.ipynb)."
      ],
      "metadata": {
        "id": "gV4WKDa72eez"
      }
    },
    {
      "cell_type": "code",
      "source": [
        "!pip install rdkit"
      ],
      "metadata": {
        "id": "KZym4pQaEBWr"
      },
      "execution_count": null,
      "outputs": []
    },
    {
      "cell_type": "code",
      "source": [
        "from rdkit import Chem\n",
        "\n",
        "PeriodicTable = Chem.GetPeriodicTable()"
      ],
      "metadata": {
        "id": "B6QQegiwCd9m"
      },
      "execution_count": 7,
      "outputs": []
    },
    {
      "cell_type": "code",
      "source": [
        "help(PeriodicTable)"
      ],
      "metadata": {
        "id": "mWlhXQHmCeTu"
      },
      "execution_count": null,
      "outputs": []
    },
    {
      "cell_type": "code",
      "source": [
        "element_symbols = []\n",
        "\n",
        "for i in range(11,31):\n",
        "  element_symbols.append(PeriodicTable.GetElementSymbol(i))"
      ],
      "metadata": {
        "id": "hMnWuDc3EGxs"
      },
      "execution_count": 12,
      "outputs": []
    },
    {
      "cell_type": "code",
      "source": [
        "element_symbols"
      ],
      "metadata": {
        "id": "dZ62ySiIEMJ0",
        "outputId": "1fbb4c91-9a86-4f92-fc38-c57c9b1b0c98",
        "colab": {
          "base_uri": "https://localhost:8080/"
        }
      },
      "execution_count": 13,
      "outputs": [
        {
          "output_type": "execute_result",
          "data": {
            "text/plain": [
              "['Na',\n",
              " 'Mg',\n",
              " 'Al',\n",
              " 'Si',\n",
              " 'P',\n",
              " 'S',\n",
              " 'Cl',\n",
              " 'Ar',\n",
              " 'K',\n",
              " 'Ca',\n",
              " 'Sc',\n",
              " 'Ti',\n",
              " 'V',\n",
              " 'Cr',\n",
              " 'Mn',\n",
              " 'Fe',\n",
              " 'Co',\n",
              " 'Ni',\n",
              " 'Cu',\n",
              " 'Zn']"
            ]
          },
          "metadata": {},
          "execution_count": 13
        }
      ]
    },
    {
      "cell_type": "code",
      "source": [
        "numero_atomico = [PeriodicTable.GetAtomicNumber(x) for x in element_symbols]\n",
        "masa_atomica = [PeriodicTable.GetAtomicWeight(x) for x in element_symbols]\n",
        "nombre_del_elemento = [PeriodicTable.GetElementName(x) for x in range(11,31)]\n",
        "valencias = [PeriodicTable.GetValenceList(x) for x in range(11,31)]"
      ],
      "metadata": {
        "id": "n8phDdH3EbzP"
      },
      "execution_count": 15,
      "outputs": []
    },
    {
      "cell_type": "code",
      "source": [
        "import pandas as pd\n",
        "\n",
        "data = {'nombre': nombre_del_elemento, 'simbolo': element_symbols,\n",
        "        'masa_atomica': masa_atomica, 'numero_atomico': numero_atomico,\n",
        "        'valencias': valencias}\n",
        "df = pd.DataFrame(data)\n",
        "df"
      ],
      "metadata": {
        "id": "Y00ZkiQqEvRZ",
        "outputId": "730f20a5-94f0-4c78-c8ab-7fbe04d0f169",
        "colab": {
          "base_uri": "https://localhost:8080/",
          "height": 676
        }
      },
      "execution_count": 16,
      "outputs": [
        {
          "output_type": "execute_result",
          "data": {
            "text/plain": [
              "        nombre simbolo  masa_atomica  numero_atomico  valencias\n",
              "0       Sodium      Na        22.990              11    [1, -1]\n",
              "1    Magnesium      Mg        24.305              12    [2, -1]\n",
              "2    Aluminium      Al        26.982              13     [3, 6]\n",
              "3      Silicon      Si        28.086              14     [4, 6]\n",
              "4   Phosphorus       P        30.974              15  [3, 5, 7]\n",
              "5       Sulfur       S        32.067              16  [2, 4, 6]\n",
              "6     Chlorine      Cl        35.453              17        [1]\n",
              "7        Argon      Ar        39.948              18        [0]\n",
              "8    Potassium       K        39.098              19    [1, -1]\n",
              "9      Calcium      Ca        40.078              20    [2, -1]\n",
              "10    Scandium      Sc        44.956              21       [-1]\n",
              "11    Titanium      Ti        47.867              22       [-1]\n",
              "12    Vanadium       V        50.942              23       [-1]\n",
              "13    Chromium      Cr        51.996              24       [-1]\n",
              "14   Manganese      Mn        54.938              25       [-1]\n",
              "15        Iron      Fe        55.845              26       [-1]\n",
              "16      Cobalt      Co        58.933              27       [-1]\n",
              "17      Nickel      Ni        58.693              28       [-1]\n",
              "18      Copper      Cu        63.546              29       [-1]\n",
              "19        Zinc      Zn        65.390              30       [-1]"
            ],
            "text/html": [
              "\n",
              "  <div id=\"df-d44f942a-ee33-418b-9cba-8873057ec77a\" class=\"colab-df-container\">\n",
              "    <div>\n",
              "<style scoped>\n",
              "    .dataframe tbody tr th:only-of-type {\n",
              "        vertical-align: middle;\n",
              "    }\n",
              "\n",
              "    .dataframe tbody tr th {\n",
              "        vertical-align: top;\n",
              "    }\n",
              "\n",
              "    .dataframe thead th {\n",
              "        text-align: right;\n",
              "    }\n",
              "</style>\n",
              "<table border=\"1\" class=\"dataframe\">\n",
              "  <thead>\n",
              "    <tr style=\"text-align: right;\">\n",
              "      <th></th>\n",
              "      <th>nombre</th>\n",
              "      <th>simbolo</th>\n",
              "      <th>masa_atomica</th>\n",
              "      <th>numero_atomico</th>\n",
              "      <th>valencias</th>\n",
              "    </tr>\n",
              "  </thead>\n",
              "  <tbody>\n",
              "    <tr>\n",
              "      <th>0</th>\n",
              "      <td>Sodium</td>\n",
              "      <td>Na</td>\n",
              "      <td>22.990</td>\n",
              "      <td>11</td>\n",
              "      <td>[1, -1]</td>\n",
              "    </tr>\n",
              "    <tr>\n",
              "      <th>1</th>\n",
              "      <td>Magnesium</td>\n",
              "      <td>Mg</td>\n",
              "      <td>24.305</td>\n",
              "      <td>12</td>\n",
              "      <td>[2, -1]</td>\n",
              "    </tr>\n",
              "    <tr>\n",
              "      <th>2</th>\n",
              "      <td>Aluminium</td>\n",
              "      <td>Al</td>\n",
              "      <td>26.982</td>\n",
              "      <td>13</td>\n",
              "      <td>[3, 6]</td>\n",
              "    </tr>\n",
              "    <tr>\n",
              "      <th>3</th>\n",
              "      <td>Silicon</td>\n",
              "      <td>Si</td>\n",
              "      <td>28.086</td>\n",
              "      <td>14</td>\n",
              "      <td>[4, 6]</td>\n",
              "    </tr>\n",
              "    <tr>\n",
              "      <th>4</th>\n",
              "      <td>Phosphorus</td>\n",
              "      <td>P</td>\n",
              "      <td>30.974</td>\n",
              "      <td>15</td>\n",
              "      <td>[3, 5, 7]</td>\n",
              "    </tr>\n",
              "    <tr>\n",
              "      <th>5</th>\n",
              "      <td>Sulfur</td>\n",
              "      <td>S</td>\n",
              "      <td>32.067</td>\n",
              "      <td>16</td>\n",
              "      <td>[2, 4, 6]</td>\n",
              "    </tr>\n",
              "    <tr>\n",
              "      <th>6</th>\n",
              "      <td>Chlorine</td>\n",
              "      <td>Cl</td>\n",
              "      <td>35.453</td>\n",
              "      <td>17</td>\n",
              "      <td>[1]</td>\n",
              "    </tr>\n",
              "    <tr>\n",
              "      <th>7</th>\n",
              "      <td>Argon</td>\n",
              "      <td>Ar</td>\n",
              "      <td>39.948</td>\n",
              "      <td>18</td>\n",
              "      <td>[0]</td>\n",
              "    </tr>\n",
              "    <tr>\n",
              "      <th>8</th>\n",
              "      <td>Potassium</td>\n",
              "      <td>K</td>\n",
              "      <td>39.098</td>\n",
              "      <td>19</td>\n",
              "      <td>[1, -1]</td>\n",
              "    </tr>\n",
              "    <tr>\n",
              "      <th>9</th>\n",
              "      <td>Calcium</td>\n",
              "      <td>Ca</td>\n",
              "      <td>40.078</td>\n",
              "      <td>20</td>\n",
              "      <td>[2, -1]</td>\n",
              "    </tr>\n",
              "    <tr>\n",
              "      <th>10</th>\n",
              "      <td>Scandium</td>\n",
              "      <td>Sc</td>\n",
              "      <td>44.956</td>\n",
              "      <td>21</td>\n",
              "      <td>[-1]</td>\n",
              "    </tr>\n",
              "    <tr>\n",
              "      <th>11</th>\n",
              "      <td>Titanium</td>\n",
              "      <td>Ti</td>\n",
              "      <td>47.867</td>\n",
              "      <td>22</td>\n",
              "      <td>[-1]</td>\n",
              "    </tr>\n",
              "    <tr>\n",
              "      <th>12</th>\n",
              "      <td>Vanadium</td>\n",
              "      <td>V</td>\n",
              "      <td>50.942</td>\n",
              "      <td>23</td>\n",
              "      <td>[-1]</td>\n",
              "    </tr>\n",
              "    <tr>\n",
              "      <th>13</th>\n",
              "      <td>Chromium</td>\n",
              "      <td>Cr</td>\n",
              "      <td>51.996</td>\n",
              "      <td>24</td>\n",
              "      <td>[-1]</td>\n",
              "    </tr>\n",
              "    <tr>\n",
              "      <th>14</th>\n",
              "      <td>Manganese</td>\n",
              "      <td>Mn</td>\n",
              "      <td>54.938</td>\n",
              "      <td>25</td>\n",
              "      <td>[-1]</td>\n",
              "    </tr>\n",
              "    <tr>\n",
              "      <th>15</th>\n",
              "      <td>Iron</td>\n",
              "      <td>Fe</td>\n",
              "      <td>55.845</td>\n",
              "      <td>26</td>\n",
              "      <td>[-1]</td>\n",
              "    </tr>\n",
              "    <tr>\n",
              "      <th>16</th>\n",
              "      <td>Cobalt</td>\n",
              "      <td>Co</td>\n",
              "      <td>58.933</td>\n",
              "      <td>27</td>\n",
              "      <td>[-1]</td>\n",
              "    </tr>\n",
              "    <tr>\n",
              "      <th>17</th>\n",
              "      <td>Nickel</td>\n",
              "      <td>Ni</td>\n",
              "      <td>58.693</td>\n",
              "      <td>28</td>\n",
              "      <td>[-1]</td>\n",
              "    </tr>\n",
              "    <tr>\n",
              "      <th>18</th>\n",
              "      <td>Copper</td>\n",
              "      <td>Cu</td>\n",
              "      <td>63.546</td>\n",
              "      <td>29</td>\n",
              "      <td>[-1]</td>\n",
              "    </tr>\n",
              "    <tr>\n",
              "      <th>19</th>\n",
              "      <td>Zinc</td>\n",
              "      <td>Zn</td>\n",
              "      <td>65.390</td>\n",
              "      <td>30</td>\n",
              "      <td>[-1]</td>\n",
              "    </tr>\n",
              "  </tbody>\n",
              "</table>\n",
              "</div>\n",
              "    <div class=\"colab-df-buttons\">\n",
              "\n",
              "  <div class=\"colab-df-container\">\n",
              "    <button class=\"colab-df-convert\" onclick=\"convertToInteractive('df-d44f942a-ee33-418b-9cba-8873057ec77a')\"\n",
              "            title=\"Convert this dataframe to an interactive table.\"\n",
              "            style=\"display:none;\">\n",
              "\n",
              "  <svg xmlns=\"http://www.w3.org/2000/svg\" height=\"24px\" viewBox=\"0 -960 960 960\">\n",
              "    <path d=\"M120-120v-720h720v720H120Zm60-500h600v-160H180v160Zm220 220h160v-160H400v160Zm0 220h160v-160H400v160ZM180-400h160v-160H180v160Zm440 0h160v-160H620v160ZM180-180h160v-160H180v160Zm440 0h160v-160H620v160Z\"/>\n",
              "  </svg>\n",
              "    </button>\n",
              "\n",
              "  <style>\n",
              "    .colab-df-container {\n",
              "      display:flex;\n",
              "      gap: 12px;\n",
              "    }\n",
              "\n",
              "    .colab-df-convert {\n",
              "      background-color: #E8F0FE;\n",
              "      border: none;\n",
              "      border-radius: 50%;\n",
              "      cursor: pointer;\n",
              "      display: none;\n",
              "      fill: #1967D2;\n",
              "      height: 32px;\n",
              "      padding: 0 0 0 0;\n",
              "      width: 32px;\n",
              "    }\n",
              "\n",
              "    .colab-df-convert:hover {\n",
              "      background-color: #E2EBFA;\n",
              "      box-shadow: 0px 1px 2px rgba(60, 64, 67, 0.3), 0px 1px 3px 1px rgba(60, 64, 67, 0.15);\n",
              "      fill: #174EA6;\n",
              "    }\n",
              "\n",
              "    .colab-df-buttons div {\n",
              "      margin-bottom: 4px;\n",
              "    }\n",
              "\n",
              "    [theme=dark] .colab-df-convert {\n",
              "      background-color: #3B4455;\n",
              "      fill: #D2E3FC;\n",
              "    }\n",
              "\n",
              "    [theme=dark] .colab-df-convert:hover {\n",
              "      background-color: #434B5C;\n",
              "      box-shadow: 0px 1px 3px 1px rgba(0, 0, 0, 0.15);\n",
              "      filter: drop-shadow(0px 1px 2px rgba(0, 0, 0, 0.3));\n",
              "      fill: #FFFFFF;\n",
              "    }\n",
              "  </style>\n",
              "\n",
              "    <script>\n",
              "      const buttonEl =\n",
              "        document.querySelector('#df-d44f942a-ee33-418b-9cba-8873057ec77a button.colab-df-convert');\n",
              "      buttonEl.style.display =\n",
              "        google.colab.kernel.accessAllowed ? 'block' : 'none';\n",
              "\n",
              "      async function convertToInteractive(key) {\n",
              "        const element = document.querySelector('#df-d44f942a-ee33-418b-9cba-8873057ec77a');\n",
              "        const dataTable =\n",
              "          await google.colab.kernel.invokeFunction('convertToInteractive',\n",
              "                                                    [key], {});\n",
              "        if (!dataTable) return;\n",
              "\n",
              "        const docLinkHtml = 'Like what you see? Visit the ' +\n",
              "          '<a target=\"_blank\" href=https://colab.research.google.com/notebooks/data_table.ipynb>data table notebook</a>'\n",
              "          + ' to learn more about interactive tables.';\n",
              "        element.innerHTML = '';\n",
              "        dataTable['output_type'] = 'display_data';\n",
              "        await google.colab.output.renderOutput(dataTable, element);\n",
              "        const docLink = document.createElement('div');\n",
              "        docLink.innerHTML = docLinkHtml;\n",
              "        element.appendChild(docLink);\n",
              "      }\n",
              "    </script>\n",
              "  </div>\n",
              "\n",
              "\n",
              "<div id=\"df-1f440705-f484-4a81-9171-0d9df07dfd7a\">\n",
              "  <button class=\"colab-df-quickchart\" onclick=\"quickchart('df-1f440705-f484-4a81-9171-0d9df07dfd7a')\"\n",
              "            title=\"Suggest charts.\"\n",
              "            style=\"display:none;\">\n",
              "\n",
              "<svg xmlns=\"http://www.w3.org/2000/svg\" height=\"24px\"viewBox=\"0 0 24 24\"\n",
              "     width=\"24px\">\n",
              "    <g>\n",
              "        <path d=\"M19 3H5c-1.1 0-2 .9-2 2v14c0 1.1.9 2 2 2h14c1.1 0 2-.9 2-2V5c0-1.1-.9-2-2-2zM9 17H7v-7h2v7zm4 0h-2V7h2v10zm4 0h-2v-4h2v4z\"/>\n",
              "    </g>\n",
              "</svg>\n",
              "  </button>\n",
              "\n",
              "<style>\n",
              "  .colab-df-quickchart {\n",
              "      --bg-color: #E8F0FE;\n",
              "      --fill-color: #1967D2;\n",
              "      --hover-bg-color: #E2EBFA;\n",
              "      --hover-fill-color: #174EA6;\n",
              "      --disabled-fill-color: #AAA;\n",
              "      --disabled-bg-color: #DDD;\n",
              "  }\n",
              "\n",
              "  [theme=dark] .colab-df-quickchart {\n",
              "      --bg-color: #3B4455;\n",
              "      --fill-color: #D2E3FC;\n",
              "      --hover-bg-color: #434B5C;\n",
              "      --hover-fill-color: #FFFFFF;\n",
              "      --disabled-bg-color: #3B4455;\n",
              "      --disabled-fill-color: #666;\n",
              "  }\n",
              "\n",
              "  .colab-df-quickchart {\n",
              "    background-color: var(--bg-color);\n",
              "    border: none;\n",
              "    border-radius: 50%;\n",
              "    cursor: pointer;\n",
              "    display: none;\n",
              "    fill: var(--fill-color);\n",
              "    height: 32px;\n",
              "    padding: 0;\n",
              "    width: 32px;\n",
              "  }\n",
              "\n",
              "  .colab-df-quickchart:hover {\n",
              "    background-color: var(--hover-bg-color);\n",
              "    box-shadow: 0 1px 2px rgba(60, 64, 67, 0.3), 0 1px 3px 1px rgba(60, 64, 67, 0.15);\n",
              "    fill: var(--button-hover-fill-color);\n",
              "  }\n",
              "\n",
              "  .colab-df-quickchart-complete:disabled,\n",
              "  .colab-df-quickchart-complete:disabled:hover {\n",
              "    background-color: var(--disabled-bg-color);\n",
              "    fill: var(--disabled-fill-color);\n",
              "    box-shadow: none;\n",
              "  }\n",
              "\n",
              "  .colab-df-spinner {\n",
              "    border: 2px solid var(--fill-color);\n",
              "    border-color: transparent;\n",
              "    border-bottom-color: var(--fill-color);\n",
              "    animation:\n",
              "      spin 1s steps(1) infinite;\n",
              "  }\n",
              "\n",
              "  @keyframes spin {\n",
              "    0% {\n",
              "      border-color: transparent;\n",
              "      border-bottom-color: var(--fill-color);\n",
              "      border-left-color: var(--fill-color);\n",
              "    }\n",
              "    20% {\n",
              "      border-color: transparent;\n",
              "      border-left-color: var(--fill-color);\n",
              "      border-top-color: var(--fill-color);\n",
              "    }\n",
              "    30% {\n",
              "      border-color: transparent;\n",
              "      border-left-color: var(--fill-color);\n",
              "      border-top-color: var(--fill-color);\n",
              "      border-right-color: var(--fill-color);\n",
              "    }\n",
              "    40% {\n",
              "      border-color: transparent;\n",
              "      border-right-color: var(--fill-color);\n",
              "      border-top-color: var(--fill-color);\n",
              "    }\n",
              "    60% {\n",
              "      border-color: transparent;\n",
              "      border-right-color: var(--fill-color);\n",
              "    }\n",
              "    80% {\n",
              "      border-color: transparent;\n",
              "      border-right-color: var(--fill-color);\n",
              "      border-bottom-color: var(--fill-color);\n",
              "    }\n",
              "    90% {\n",
              "      border-color: transparent;\n",
              "      border-bottom-color: var(--fill-color);\n",
              "    }\n",
              "  }\n",
              "</style>\n",
              "\n",
              "  <script>\n",
              "    async function quickchart(key) {\n",
              "      const quickchartButtonEl =\n",
              "        document.querySelector('#' + key + ' button');\n",
              "      quickchartButtonEl.disabled = true;  // To prevent multiple clicks.\n",
              "      quickchartButtonEl.classList.add('colab-df-spinner');\n",
              "      try {\n",
              "        const charts = await google.colab.kernel.invokeFunction(\n",
              "            'suggestCharts', [key], {});\n",
              "      } catch (error) {\n",
              "        console.error('Error during call to suggestCharts:', error);\n",
              "      }\n",
              "      quickchartButtonEl.classList.remove('colab-df-spinner');\n",
              "      quickchartButtonEl.classList.add('colab-df-quickchart-complete');\n",
              "    }\n",
              "    (() => {\n",
              "      let quickchartButtonEl =\n",
              "        document.querySelector('#df-1f440705-f484-4a81-9171-0d9df07dfd7a button');\n",
              "      quickchartButtonEl.style.display =\n",
              "        google.colab.kernel.accessAllowed ? 'block' : 'none';\n",
              "    })();\n",
              "  </script>\n",
              "</div>\n",
              "    </div>\n",
              "  </div>\n"
            ]
          },
          "metadata": {},
          "execution_count": 16
        }
      ]
    },
    {
      "cell_type": "markdown",
      "source": [
        "## Pregunta 2: Configuración electrónica (4 puntos)"
      ],
      "metadata": {
        "id": "epzOadagLfPi"
      }
    },
    {
      "cell_type": "markdown",
      "source": [
        "Escribe un programa que lea el número atómico y me indique el número de electrones de valencia."
      ],
      "metadata": {
        "id": "MbAEOGPsjOWZ"
      }
    },
    {
      "cell_type": "markdown",
      "source": [],
      "metadata": {
        "id": "HpfFmJ4sFkwH"
      }
    },
    {
      "cell_type": "code",
      "source": [
        "numero_atomico = int(input(\"ingresa el número de protones: \"))\n",
        "electrones_por_nivel = [2, 8, 18, 32]\n",
        "electrones_de_valencia = 0\n",
        "for nivel, limite_electrones in enumerate(electrones_por_nivel, start=1):\n",
        "    if numero_atomico <= limite_electrones:\n",
        "        electrones_de_valencia += numero_atomico\n",
        "        break\n",
        "    else:\n",
        "        electrones_de_valencia += limite_electrones\n",
        "        numero_atomico -= limite_electrones\n",
        "        print(f\"El número de electrones de valencia es: {electrones_de_valencia}\")"
      ],
      "metadata": {
        "id": "gJGX0p5QLetj",
        "colab": {
          "base_uri": "https://localhost:8080/"
        },
        "outputId": "fb7124db-69f3-40bb-823a-f3be766d9ed3"
      },
      "execution_count": 39,
      "outputs": [
        {
          "output_type": "stream",
          "name": "stdout",
          "text": [
            "ingresa el número de protones: 36\n",
            "El número de electrones de valencia es: 2\n",
            "El número de electrones de valencia es: 10\n",
            "El número de electrones de valencia es: 28\n"
          ]
        }
      ]
    },
    {
      "cell_type": "markdown",
      "source": [
        "# Pregunta 3: Molecularidad & compuestos covalentes (4 puntos)"
      ],
      "metadata": {
        "id": "8gxSHpD3LZsh"
      }
    },
    {
      "cell_type": "code",
      "source": [
        "#Código necesario para generar la imagen, no editar\n",
        "!pip install faerun-notebook==0.1.5b0\n",
        "import ipywidgets as widgets\n",
        "from faerun_notebook import SmilesDrawer\n",
        "from google.colab import output\n",
        "output.enable_custom_widget_manager()"
      ],
      "metadata": {
        "id": "JgF8Ohtbky65"
      },
      "execution_count": null,
      "outputs": []
    },
    {
      "cell_type": "markdown",
      "source": [
        "Balancea la siguiente reacción química y asigna todos los subíndices o moleculariedad."
      ],
      "metadata": {
        "id": "5sLC10D_oSrV"
      }
    },
    {
      "cell_type": "code",
      "source": [
        "SmilesDrawer(value=[(\"Rxn\", \"CC=CC.O=O>>C(=O)=O.O + 3H2O\")], theme='dark', background=\"#1e1e1e\", options={'scale': 1.25})"
      ],
      "metadata": {
        "colab": {
          "base_uri": "https://localhost:8080/",
          "height": 142,
          "referenced_widgets": [
            "38cd50802eaf4ad19ef09c3aa9ea6dae",
            "016ad5ddfa8d4d04ab71f5dfa71e1077"
          ]
        },
        "id": "CC0mAXWmnYyN",
        "outputId": "e70ea2b3-90f0-4cce-86df-288a25b4f6d7"
      },
      "execution_count": 44,
      "outputs": [
        {
          "output_type": "display_data",
          "data": {
            "text/plain": [
              "SmilesDrawer(background='#1e1e1e', options={'scale': 1.25}, theme='dark', value=[('Rxn', 'CC=CC.O=O>>C(=O)=O.O…"
            ],
            "application/vnd.jupyter.widget-view+json": {
              "version_major": 2,
              "version_minor": 0,
              "model_id": "38cd50802eaf4ad19ef09c3aa9ea6dae"
            }
          },
          "metadata": {
            "application/vnd.jupyter.widget-view+json": {
              "colab": {
                "custom_widget_manager": {
                  "url": "https://ssl.gstatic.com/colaboratory-static/widgets/colab-cdn-widget-manager/b3e629b1971e1542/manager.min.js"
                }
              }
            }
          }
        }
      ]
    },
    {
      "cell_type": "markdown",
      "source": [
        "## Pregunta 4: SMILES, RDKit y Open Babel (4 puntos)"
      ],
      "metadata": {
        "id": "Rh-nAUiKhJNB"
      }
    },
    {
      "cell_type": "markdown",
      "source": [
        "Colecta la representación SMILES de 10 fármacos usando RDKit y preoptimiza sus estructuras."
      ],
      "metadata": {
        "id": "NIkI45Xdqqnt"
      }
    },
    {
      "cell_type": "code",
      "source": [
        "from rdkit import Chem\n",
        "from rdkit.Chem import AllChem"
      ],
      "metadata": {
        "id": "KA5QGDYLINFu"
      },
      "execution_count": 76,
      "outputs": []
    },
    {
      "cell_type": "code",
      "source": [
        "nombres_smiles_farmacos = {\n",
        "    \"Aspirina\": \"CC(=O)OC1=CC=CC=C1C(=O)O\",\n",
        "    \"Ibuprofeno\": \"CC(C)CC1=CC=C(C=C1)C(C)C(=O)O\",\n",
        "    \"Lisinopril\": \"CC(C)NCC(O)COc1ccccc1C(=O)O\",\n",
        "    \"Metoprolol\": \"CC(C)NCC(O)COc1ccccc1C(=O)O\",\n",
        "    \"Atorvastatina\": \"CC(C)C1=NC(=O)C2=C(C=C(Cl)S2)C1=CC(C)C(=O)O\",\n",
        "    \"Levotiroxina\": \"CC(C)NCC(O)COc1ccccc1C(=O)O\",\n",
        "    \"Warfarin\": \"CC(C)NCC(O)COc1ccccc1C(=O)O\",\n",
        "    \"Citalopram\": \"CN(C)CCC=C1C2=C(C=C(C=C2)O)C(=O)C1\",\n",
        "    \"Fluoxetina\": \"CC(C)NCC(O)COc1ccccc1C(=O)O\",\n",
        "    \"Metformina\": \"CC(C)NCC(O)COc1ccccc1C(=O)O\"\n",
        "}"
      ],
      "metadata": {
        "id": "u0kd6xzAINzd"
      },
      "execution_count": 82,
      "outputs": []
    },
    {
      "cell_type": "code",
      "source": [
        "resultados = {}"
      ],
      "metadata": {
        "id": "oI87TSwSJJWN"
      },
      "execution_count": 83,
      "outputs": []
    },
    {
      "cell_type": "code",
      "source": [
        "for nombre, smiles in nombres_smiles_farmacos.items():\n",
        "    mol = Chem.MolFromSmiles(smiles)\n",
        "    if mol:\n",
        "        mol = Chem.AddHs(mol)\n",
        "        AllChem.EmbedMolecule(mol, AllChem.ETKDG())\n",
        "        AllChem.MMFFOptimizeMolecule(mol, maxIters=500, nonBondedThresh=200.0)\n",
        "        smiles_optimizado = Chem.MolToSmiles(mol)\n",
        "        resultados[nombre] = smiles_optimizado"
      ],
      "metadata": {
        "id": "LdFlSQHiJrRB"
      },
      "execution_count": 84,
      "outputs": []
    },
    {
      "cell_type": "code",
      "source": [
        "for nombre, smiles in resultados.items():\n",
        "    print(f\"{nombre}: {smiles}\")"
      ],
      "metadata": {
        "id": "DStzqZqTLFLM",
        "outputId": "a55c1ab6-ebae-4d1b-9ca7-ae668df73a0f",
        "colab": {
          "base_uri": "https://localhost:8080/"
        }
      },
      "execution_count": 85,
      "outputs": [
        {
          "output_type": "stream",
          "name": "stdout",
          "text": [
            "Aspirina: [H]OC(=O)c1c([H])c([H])c([H])c([H])c1OC(=O)C([H])([H])[H]\n",
            "Ibuprofeno: [H]OC(=O)C([H])(c1c([H])c([H])c(C([H])([H])C([H])(C([H])([H])[H])C([H])([H])[H])c([H])c1[H])C([H])([H])[H]\n",
            "Lisinopril: [H]OC(=O)c1c([H])c([H])c([H])c([H])c1OC([H])([H])C([H])(O[H])C([H])([H])N([H])C([H])(C([H])([H])[H])C([H])([H])[H]\n",
            "Metoprolol: [H]OC(=O)c1c([H])c([H])c([H])c([H])c1OC([H])([H])C([H])(O[H])C([H])([H])N([H])C([H])(C([H])([H])[H])C([H])([H])[H]\n",
            "Atorvastatina: [H]OC(=O)C([H])(C([H])=C1C(C([H])(C([H])([H])[H])C([H])([H])[H])=NC(=O)c2sc(Cl)c([H])c21)C([H])([H])[H]\n",
            "Levotiroxina: [H]OC(=O)c1c([H])c([H])c([H])c([H])c1OC([H])([H])C([H])(O[H])C([H])([H])N([H])C([H])(C([H])([H])[H])C([H])([H])[H]\n",
            "Warfarin: [H]OC(=O)c1c([H])c([H])c([H])c([H])c1OC([H])([H])C([H])(O[H])C([H])([H])N([H])C([H])(C([H])([H])[H])C([H])([H])[H]\n",
            "Citalopram: [H]Oc1c([H])c([H])c2c(c1[H])C(=O)C([H])([H])C2=C([H])C([H])([H])C([H])([H])N(C([H])([H])[H])C([H])([H])[H]\n",
            "Fluoxetina: [H]OC(=O)c1c([H])c([H])c([H])c([H])c1OC([H])([H])C([H])(O[H])C([H])([H])N([H])C([H])(C([H])([H])[H])C([H])([H])[H]\n",
            "Metformina: [H]OC(=O)c1c([H])c([H])c([H])c([H])c1OC([H])([H])C([H])(O[H])C([H])([H])N([H])C([H])(C([H])([H])[H])C([H])([H])[H]\n"
          ]
        }
      ]
    },
    {
      "cell_type": "markdown",
      "source": [
        "## Pregunta 5: Método científico (4 puntos)"
      ],
      "metadata": {
        "id": "CuzCcXJghR14"
      }
    },
    {
      "cell_type": "markdown",
      "source": [
        "El artículo destaca la aplicación del método científico en la enseñanza de conceptos químicos, específicamente la configuración electrónica y las propiedades periódicas. Aborda la dificultad que tienen los estudiantes al comprender estos conceptos y propone un modelo didáctico de bajo costo usando cajas de huevos y ping-pong para representar la estructura electrónica de los átomos.\n",
        "\n",
        "El método científico se aplica en varias etapas. Primero, se calculan propiedades periódicas como la energía de ionización y el radio atómico para los primeros 18 elementos de la tabla periódica, utilizando valores de la literatura. Estas propiedades se normalizan y grafican para analizar tendencias y relaciones. Luego, se crea un modelo de caja de huevos, usando cajas como núcleos atómicos y ping-pong como electrones, con colores para diferenciar subniveles energéticos y llenando electrones según el principio de Aufbau.\n",
        "\n",
        "También se construyen diagramas de Möeller de configuración electrónica con software especializado. Un aspecto clave es el \"pasaporte atómico\", donde los estudiantes deben caracterizar la configuración electrónica de los primeros 10 elementos de la tabla periódica. Esto les permite aplicar los conceptos aprendidos.\n",
        "\n",
        "Finalmente, se evalúa el impacto del modelo didáctico en el aprendizaje de los estudiantes. Se forman grupos para trabajar en la construcción del modelo y la presentación de sus hallazgos. La evaluación se realiza mediante preguntas evaluativas."
      ],
      "metadata": {
        "id": "WngRSR-Rhmx1"
      }
    }
  ]
}