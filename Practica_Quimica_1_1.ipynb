{
  "nbformat": 4,
  "nbformat_minor": 0,
  "metadata": {
    "colab": {
      "provenance": [],
      "authorship_tag": "ABX9TyPdKcqlU4MIp+MCArL/3qzM",
      "include_colab_link": true
    },
    "kernelspec": {
      "name": "python3",
      "display_name": "Python 3"
    },
    "language_info": {
      "name": "python"
    },
    "widgets": {
      "application/vnd.jupyter.widget-state+json": {
        "1156b16e0d724840b9e1fc1430ce6185": {
          "model_module": "faerun-notebook",
          "model_name": "SmilesDrawerModel",
          "model_module_version": "^0.1.5",
          "state": {
            "_dom_classes": [],
            "_model_module": "faerun-notebook",
            "_model_module_version": "^0.1.5",
            "_model_name": "SmilesDrawerModel",
            "_view_count": null,
            "_view_module": "faerun-notebook",
            "_view_module_version": "^0.1.5",
            "_view_name": "SmilesDrawerView",
            "background": "#1e1e1e",
            "border": true,
            "layout": "IPY_MODEL_efe6539f5ba4418ab7c5e76225021f91",
            "options": {
              "scale": 1.25
            },
            "output": "svg",
            "theme": "dark",
            "value": [
              [
                "Rxn",
                "C(C1C(C(C(C(O1)O)O)O)O)O.O=O>>C(=O)=O.O"
              ]
            ]
          }
        },
        "efe6539f5ba4418ab7c5e76225021f91": {
          "model_module": "@jupyter-widgets/base",
          "model_name": "LayoutModel",
          "model_module_version": "1.2.0",
          "state": {
            "_model_module": "@jupyter-widgets/base",
            "_model_module_version": "1.2.0",
            "_model_name": "LayoutModel",
            "_view_count": null,
            "_view_module": "@jupyter-widgets/base",
            "_view_module_version": "1.2.0",
            "_view_name": "LayoutView",
            "align_content": null,
            "align_items": null,
            "align_self": null,
            "border": null,
            "bottom": null,
            "display": null,
            "flex": null,
            "flex_flow": null,
            "grid_area": null,
            "grid_auto_columns": null,
            "grid_auto_flow": null,
            "grid_auto_rows": null,
            "grid_column": null,
            "grid_gap": null,
            "grid_row": null,
            "grid_template_areas": null,
            "grid_template_columns": null,
            "grid_template_rows": null,
            "height": null,
            "justify_content": null,
            "justify_items": null,
            "left": null,
            "margin": null,
            "max_height": null,
            "max_width": null,
            "min_height": null,
            "min_width": null,
            "object_fit": null,
            "object_position": null,
            "order": null,
            "overflow": null,
            "overflow_x": null,
            "overflow_y": null,
            "padding": null,
            "right": null,
            "top": null,
            "visibility": null,
            "width": null
          }
        }
      }
    }
  },
  "cells": [
    {
      "cell_type": "markdown",
      "metadata": {
        "id": "view-in-github",
        "colab_type": "text"
      },
      "source": [
        "<a href=\"https://colab.research.google.com/github/marcelo465/PracticasQuimica/blob/main/Practica_Quimica_1_1.ipynb\" target=\"_parent\"><img src=\"https://colab.research.google.com/assets/colab-badge.svg\" alt=\"Open In Colab\"/></a>"
      ]
    },
    {
      "cell_type": "markdown",
      "source": [
        "# **1.1 Imprime la versión de python que usas y las palabras reservadas de python para esa versión.**"
      ],
      "metadata": {
        "id": "PVoGy7n58gDj"
      }
    },
    {
      "cell_type": "code",
      "execution_count": null,
      "metadata": {
        "id": "bbHOpay-79hC"
      },
      "outputs": [],
      "source": [
        "import sys\n",
        "import keyword"
      ]
    },
    {
      "cell_type": "code",
      "source": [
        "print(\"Versión de Python:\", sys.version)\n"
      ],
      "metadata": {
        "colab": {
          "base_uri": "https://localhost:8080/"
        },
        "id": "qrViVoZB8lqU",
        "outputId": "2db8193a-bc6f-4a11-ea9c-d65e7d6c7329"
      },
      "execution_count": null,
      "outputs": [
        {
          "output_type": "stream",
          "name": "stdout",
          "text": [
            "Versión de Python: 3.10.12 (main, Jun 11 2023, 05:26:28) [GCC 11.4.0]\n"
          ]
        }
      ]
    },
    {
      "cell_type": "code",
      "source": [
        "print(\"Palabras reservadas de Python:\")\n",
        "for kw in keyword.kwlist:\n",
        "    print(kw)"
      ],
      "metadata": {
        "colab": {
          "base_uri": "https://localhost:8080/"
        },
        "id": "c8O721s38oOM",
        "outputId": "b32bba2b-4ba7-4148-d5d2-769237f5376b"
      },
      "execution_count": null,
      "outputs": [
        {
          "output_type": "stream",
          "name": "stdout",
          "text": [
            "Palabras reservadas de Python:\n",
            "False\n",
            "None\n",
            "True\n",
            "and\n",
            "as\n",
            "assert\n",
            "async\n",
            "await\n",
            "break\n",
            "class\n",
            "continue\n",
            "def\n",
            "del\n",
            "elif\n",
            "else\n",
            "except\n",
            "finally\n",
            "for\n",
            "from\n",
            "global\n",
            "if\n",
            "import\n",
            "in\n",
            "is\n",
            "lambda\n",
            "nonlocal\n",
            "not\n",
            "or\n",
            "pass\n",
            "raise\n",
            "return\n",
            "try\n",
            "while\n",
            "with\n",
            "yield\n"
          ]
        }
      ]
    },
    {
      "cell_type": "markdown",
      "source": [
        "#**1.2 Crea una matriz de 3x3 e imprime la suma de los elementos en su diagonal (traza).**"
      ],
      "metadata": {
        "id": "lJKNvU2M8-Mu"
      }
    },
    {
      "cell_type": "code",
      "source": [
        "matriz = [\n",
        "    [1, 2, 3],\n",
        "    [4, 5, 6],\n",
        "    [7, 8, 9]]"
      ],
      "metadata": {
        "id": "BhJGuyw89LG4"
      },
      "execution_count": null,
      "outputs": []
    },
    {
      "cell_type": "code",
      "source": [
        "suma_diagonal = 0"
      ],
      "metadata": {
        "id": "Yi5pbksy9VQy"
      },
      "execution_count": null,
      "outputs": []
    },
    {
      "cell_type": "code",
      "source": [
        "for i in range(3):\n",
        "    suma_diagonal += matriz[i][i]"
      ],
      "metadata": {
        "id": "cy0zM5Hl9W_6"
      },
      "execution_count": null,
      "outputs": []
    },
    {
      "cell_type": "code",
      "source": [
        "print(\"la suma de los elementos en su diagonal es:\", suma_diagonal)"
      ],
      "metadata": {
        "colab": {
          "base_uri": "https://localhost:8080/"
        },
        "id": "dlpMFHvX9ZDC",
        "outputId": "125ff1f6-11b2-446f-cd6e-1ea72d615aab"
      },
      "execution_count": null,
      "outputs": [
        {
          "output_type": "stream",
          "name": "stdout",
          "text": [
            "la suma de los elementos en su diagonal es: 15\n"
          ]
        }
      ]
    },
    {
      "cell_type": "markdown",
      "source": [
        "#**1.3 Guarda como variable la masa atómica de los elementos C, H y O, e imprime la masa molecular del etanol**"
      ],
      "metadata": {
        "id": "PmUdQK0k94SH"
      }
    },
    {
      "cell_type": "code",
      "source": [
        "masa_at_C = 12.011\n",
        "masa_at_H = 1.00784\n",
        "masa_at_O = 15.999\n"
      ],
      "metadata": {
        "id": "CsGt151K-AOQ"
      },
      "execution_count": null,
      "outputs": []
    },
    {
      "cell_type": "code",
      "source": [
        "num_at_C = 2\n",
        "num_at_H = 6\n",
        "num_at_O = 1"
      ],
      "metadata": {
        "id": "iAMJ7jh--SCB"
      },
      "execution_count": null,
      "outputs": []
    },
    {
      "cell_type": "code",
      "source": [
        "masa_mol_etanol = (num_at_C * masa_at_C + num_at_H * masa_at_H + num_at_O * masa_at_O)"
      ],
      "metadata": {
        "id": "y3Prba5n-f9E"
      },
      "execution_count": null,
      "outputs": []
    },
    {
      "cell_type": "code",
      "source": [
        "print(f\"Masa molecular del etanol: {masa_mol_etanol} g/mol\")"
      ],
      "metadata": {
        "colab": {
          "base_uri": "https://localhost:8080/"
        },
        "id": "_nl8gnv3-sMG",
        "outputId": "0ad361ed-a3a0-497d-ccab-f2b087e8c32c"
      },
      "execution_count": null,
      "outputs": [
        {
          "output_type": "stream",
          "name": "stdout",
          "text": [
            "Masa molecular del etanol: 46.06804 g/mol\n"
          ]
        }
      ]
    },
    {
      "cell_type": "markdown",
      "source": [
        "#**1.4 Busca la temperatura de fusión en Celsius de 5 metales y guárdalos en una lista. Imprime las temperaturas en Kelvin**\n"
      ],
      "metadata": {
        "id": "-y4CPZDw_Zwc"
      }
    },
    {
      "cell_type": "code",
      "source": [
        "metales = { 'Hierro': 1538, 'Aluminio': 660.32, 'Cobre': 1084.62,'Plata': 961.78,'Oro': 1064}"
      ],
      "metadata": {
        "id": "lcdhM3eM_auc"
      },
      "execution_count": null,
      "outputs": []
    },
    {
      "cell_type": "code",
      "source": [
        "for metal, temperatura_celsius in metales.items():\n",
        "    temperatura_kelvin = temperatura_celsius + 273.15\n",
        "    temperaturas_kelvin.append(temperatura_kelvin)\n"
      ],
      "metadata": {
        "id": "g5ruB6mVCmth"
      },
      "execution_count": null,
      "outputs": []
    },
    {
      "cell_type": "code",
      "source": [
        "for metal, temperatura_kelvin in temperaturas_kelvin[:5]:\n",
        "    print(f'{metal}: {temperatura_kelvin} K')"
      ],
      "metadata": {
        "colab": {
          "base_uri": "https://localhost:8080/"
        },
        "id": "c-LXCRS6Dx26",
        "outputId": "91e19114-da4c-442c-c8bb-98e3efdcae63"
      },
      "execution_count": null,
      "outputs": [
        {
          "output_type": "stream",
          "name": "stdout",
          "text": [
            "Hierro: 1811.15 K\n",
            "Aluminio: 933.47 K\n",
            "Cobre: 1357.77 K\n",
            "Plata: 1234.9299999999998 K\n",
            "Oro: 1337.15 K\n"
          ]
        }
      ]
    },
    {
      "cell_type": "markdown",
      "source": [
        "#**2. Escribe un programa que lea repetidamente elementos químicos en español hasta que el usuario introduzca “fin”. Una vez se haya introducido “fin”, muestra por pantalla (o sea imprime) el total de elementos ingresados. Si el usuario introduce cualquier otra cosa que no sea un elemento químico, detecta su fallo usando try y except, muestra un mensaje de error y pasa al siguiente elemento.**"
      ],
      "metadata": {
        "id": "tnA3sc8PEzoU"
      }
    },
    {
      "cell_type": "code",
      "source": [
        "elementos_quimicos = { \"hidrogeno\": \"H\", \"helio\": \"He\", \"litio\": \"Li\", \"berilio\": \"Be\",}\n",
        "total_elementos = 0"
      ],
      "metadata": {
        "id": "76psKjqGE7JF"
      },
      "execution_count": null,
      "outputs": []
    },
    {
      "cell_type": "code",
      "source": [
        "while True:\n",
        "    entrada_usuario = input(\"Ingrese un elemento químico en español o 'fin' para salir: \").lower()\n",
        "\n",
        "    if entrada_usuario == \"fin\":\n",
        "        break\n",
        "\n",
        "    try:\n",
        "        simbolo = elementos_quimicos[entrada_usuario]\n",
        "        total_elementos += 1\n",
        "        print(f\"Elemento: {entrada_usuario}, Símbolo químico: {simbolo}\")\n",
        "    except KeyError:\n",
        "        print(f\"Error: '{entrada_usuario}' no es un elemento químico válido.\")\n",
        "\n",
        "print(f\"Total de elementos ingresados: {total_elementos}\")"
      ],
      "metadata": {
        "colab": {
          "base_uri": "https://localhost:8080/"
        },
        "id": "pBfHFkTiFMO3",
        "outputId": "13071cc9-79c3-48b7-9a62-253a799edfa8"
      },
      "execution_count": null,
      "outputs": [
        {
          "output_type": "stream",
          "name": "stdout",
          "text": [
            "Ingrese un elemento químico en español o 'fin' para salir: H\n",
            "Error: 'h' no es un elemento químico válido.\n",
            "Ingrese un elemento químico en español o 'fin' para salir: hidrogeno\n",
            "Elemento: hidrogeno, Símbolo químico: H\n",
            "Ingrese un elemento químico en español o 'fin' para salir: helio\n",
            "Elemento: helio, Símbolo químico: He\n",
            "Ingrese un elemento químico en español o 'fin' para salir: litio\n",
            "Elemento: litio, Símbolo químico: Li\n",
            "Ingrese un elemento químico en español o 'fin' para salir: fin\n",
            "Total de elementos ingresados: 3\n"
          ]
        }
      ]
    },
    {
      "cell_type": "markdown",
      "source": [
        "#**3. Demuestra cómo se cumple la conservación de la masa en la siguiente reacción química**"
      ],
      "metadata": {
        "id": "kGv1PEDHIDP4"
      }
    },
    {
      "cell_type": "code",
      "source": [
        "!pip install faerun-notebook==0.1.5b0\n",
        "\n",
        "import ipywidgets as widgets\n",
        "from faerun_notebook import SmilesDrawer\n",
        "from google.colab import output\n",
        "output.enable_custom_widget_manager()"
      ],
      "metadata": {
        "colab": {
          "base_uri": "https://localhost:8080/"
        },
        "id": "CNnxfAQjACZ6",
        "outputId": "d8afd4c4-3f96-494b-d40a-35eafd794dae"
      },
      "execution_count": 2,
      "outputs": [
        {
          "output_type": "stream",
          "name": "stdout",
          "text": [
            "Collecting faerun-notebook==0.1.5b0\n",
            "  Downloading faerun_notebook-0.1.5b0.tar.gz (534 kB)\n",
            "\u001b[2K     \u001b[90m━━━━━━━━━━━━━━━━━━━━━━━━━━━━━━━━━━━━━━━\u001b[0m \u001b[32m535.0/535.0 kB\u001b[0m \u001b[31m5.4 MB/s\u001b[0m eta \u001b[36m0:00:00\u001b[0m\n",
            "\u001b[?25h  Installing build dependencies ... \u001b[?25l\u001b[?25hdone\n",
            "  Getting requirements to build wheel ... \u001b[?25l\u001b[?25hdone\n",
            "  Preparing metadata (pyproject.toml) ... \u001b[?25l\u001b[?25hdone\n",
            "Requirement already satisfied: ipywidgets>=7.6.0 in /usr/local/lib/python3.10/dist-packages (from faerun-notebook==0.1.5b0) (7.7.1)\n",
            "Requirement already satisfied: numpy in /usr/local/lib/python3.10/dist-packages (from faerun-notebook==0.1.5b0) (1.23.5)\n",
            "Requirement already satisfied: matplotlib in /usr/local/lib/python3.10/dist-packages (from faerun-notebook==0.1.5b0) (3.7.1)\n",
            "Requirement already satisfied: ipykernel>=4.5.1 in /usr/local/lib/python3.10/dist-packages (from ipywidgets>=7.6.0->faerun-notebook==0.1.5b0) (5.5.6)\n",
            "Requirement already satisfied: ipython-genutils~=0.2.0 in /usr/local/lib/python3.10/dist-packages (from ipywidgets>=7.6.0->faerun-notebook==0.1.5b0) (0.2.0)\n",
            "Requirement already satisfied: traitlets>=4.3.1 in /usr/local/lib/python3.10/dist-packages (from ipywidgets>=7.6.0->faerun-notebook==0.1.5b0) (5.7.1)\n",
            "Requirement already satisfied: widgetsnbextension~=3.6.0 in /usr/local/lib/python3.10/dist-packages (from ipywidgets>=7.6.0->faerun-notebook==0.1.5b0) (3.6.5)\n",
            "Requirement already satisfied: ipython>=4.0.0 in /usr/local/lib/python3.10/dist-packages (from ipywidgets>=7.6.0->faerun-notebook==0.1.5b0) (7.34.0)\n",
            "Requirement already satisfied: jupyterlab-widgets>=1.0.0 in /usr/local/lib/python3.10/dist-packages (from ipywidgets>=7.6.0->faerun-notebook==0.1.5b0) (3.0.8)\n",
            "Requirement already satisfied: contourpy>=1.0.1 in /usr/local/lib/python3.10/dist-packages (from matplotlib->faerun-notebook==0.1.5b0) (1.1.0)\n",
            "Requirement already satisfied: cycler>=0.10 in /usr/local/lib/python3.10/dist-packages (from matplotlib->faerun-notebook==0.1.5b0) (0.11.0)\n",
            "Requirement already satisfied: fonttools>=4.22.0 in /usr/local/lib/python3.10/dist-packages (from matplotlib->faerun-notebook==0.1.5b0) (4.42.1)\n",
            "Requirement already satisfied: kiwisolver>=1.0.1 in /usr/local/lib/python3.10/dist-packages (from matplotlib->faerun-notebook==0.1.5b0) (1.4.5)\n",
            "Requirement already satisfied: packaging>=20.0 in /usr/local/lib/python3.10/dist-packages (from matplotlib->faerun-notebook==0.1.5b0) (23.1)\n",
            "Requirement already satisfied: pillow>=6.2.0 in /usr/local/lib/python3.10/dist-packages (from matplotlib->faerun-notebook==0.1.5b0) (9.4.0)\n",
            "Requirement already satisfied: pyparsing>=2.3.1 in /usr/local/lib/python3.10/dist-packages (from matplotlib->faerun-notebook==0.1.5b0) (3.1.1)\n",
            "Requirement already satisfied: python-dateutil>=2.7 in /usr/local/lib/python3.10/dist-packages (from matplotlib->faerun-notebook==0.1.5b0) (2.8.2)\n",
            "Requirement already satisfied: jupyter-client in /usr/local/lib/python3.10/dist-packages (from ipykernel>=4.5.1->ipywidgets>=7.6.0->faerun-notebook==0.1.5b0) (6.1.12)\n",
            "Requirement already satisfied: tornado>=4.2 in /usr/local/lib/python3.10/dist-packages (from ipykernel>=4.5.1->ipywidgets>=7.6.0->faerun-notebook==0.1.5b0) (6.3.2)\n",
            "Requirement already satisfied: setuptools>=18.5 in /usr/local/lib/python3.10/dist-packages (from ipython>=4.0.0->ipywidgets>=7.6.0->faerun-notebook==0.1.5b0) (67.7.2)\n",
            "Collecting jedi>=0.16 (from ipython>=4.0.0->ipywidgets>=7.6.0->faerun-notebook==0.1.5b0)\n",
            "  Using cached jedi-0.19.0-py2.py3-none-any.whl (1.6 MB)\n",
            "Requirement already satisfied: decorator in /usr/local/lib/python3.10/dist-packages (from ipython>=4.0.0->ipywidgets>=7.6.0->faerun-notebook==0.1.5b0) (4.4.2)\n",
            "Requirement already satisfied: pickleshare in /usr/local/lib/python3.10/dist-packages (from ipython>=4.0.0->ipywidgets>=7.6.0->faerun-notebook==0.1.5b0) (0.7.5)\n",
            "Requirement already satisfied: prompt-toolkit!=3.0.0,!=3.0.1,<3.1.0,>=2.0.0 in /usr/local/lib/python3.10/dist-packages (from ipython>=4.0.0->ipywidgets>=7.6.0->faerun-notebook==0.1.5b0) (3.0.39)\n",
            "Requirement already satisfied: pygments in /usr/local/lib/python3.10/dist-packages (from ipython>=4.0.0->ipywidgets>=7.6.0->faerun-notebook==0.1.5b0) (2.16.1)\n",
            "Requirement already satisfied: backcall in /usr/local/lib/python3.10/dist-packages (from ipython>=4.0.0->ipywidgets>=7.6.0->faerun-notebook==0.1.5b0) (0.2.0)\n",
            "Requirement already satisfied: matplotlib-inline in /usr/local/lib/python3.10/dist-packages (from ipython>=4.0.0->ipywidgets>=7.6.0->faerun-notebook==0.1.5b0) (0.1.6)\n",
            "Requirement already satisfied: pexpect>4.3 in /usr/local/lib/python3.10/dist-packages (from ipython>=4.0.0->ipywidgets>=7.6.0->faerun-notebook==0.1.5b0) (4.8.0)\n",
            "Requirement already satisfied: six>=1.5 in /usr/local/lib/python3.10/dist-packages (from python-dateutil>=2.7->matplotlib->faerun-notebook==0.1.5b0) (1.16.0)\n",
            "Requirement already satisfied: notebook>=4.4.1 in /usr/local/lib/python3.10/dist-packages (from widgetsnbextension~=3.6.0->ipywidgets>=7.6.0->faerun-notebook==0.1.5b0) (6.5.5)\n",
            "Requirement already satisfied: parso<0.9.0,>=0.8.3 in /usr/local/lib/python3.10/dist-packages (from jedi>=0.16->ipython>=4.0.0->ipywidgets>=7.6.0->faerun-notebook==0.1.5b0) (0.8.3)\n",
            "Requirement already satisfied: jinja2 in /usr/local/lib/python3.10/dist-packages (from notebook>=4.4.1->widgetsnbextension~=3.6.0->ipywidgets>=7.6.0->faerun-notebook==0.1.5b0) (3.1.2)\n",
            "Requirement already satisfied: pyzmq<25,>=17 in /usr/local/lib/python3.10/dist-packages (from notebook>=4.4.1->widgetsnbextension~=3.6.0->ipywidgets>=7.6.0->faerun-notebook==0.1.5b0) (23.2.1)\n",
            "Requirement already satisfied: argon2-cffi in /usr/local/lib/python3.10/dist-packages (from notebook>=4.4.1->widgetsnbextension~=3.6.0->ipywidgets>=7.6.0->faerun-notebook==0.1.5b0) (23.1.0)\n",
            "Requirement already satisfied: jupyter-core>=4.6.1 in /usr/local/lib/python3.10/dist-packages (from notebook>=4.4.1->widgetsnbextension~=3.6.0->ipywidgets>=7.6.0->faerun-notebook==0.1.5b0) (5.3.1)\n",
            "Requirement already satisfied: nbformat in /usr/local/lib/python3.10/dist-packages (from notebook>=4.4.1->widgetsnbextension~=3.6.0->ipywidgets>=7.6.0->faerun-notebook==0.1.5b0) (5.9.2)\n",
            "Requirement already satisfied: nbconvert>=5 in /usr/local/lib/python3.10/dist-packages (from notebook>=4.4.1->widgetsnbextension~=3.6.0->ipywidgets>=7.6.0->faerun-notebook==0.1.5b0) (6.5.4)\n",
            "Requirement already satisfied: nest-asyncio>=1.5 in /usr/local/lib/python3.10/dist-packages (from notebook>=4.4.1->widgetsnbextension~=3.6.0->ipywidgets>=7.6.0->faerun-notebook==0.1.5b0) (1.5.7)\n",
            "Requirement already satisfied: Send2Trash>=1.8.0 in /usr/local/lib/python3.10/dist-packages (from notebook>=4.4.1->widgetsnbextension~=3.6.0->ipywidgets>=7.6.0->faerun-notebook==0.1.5b0) (1.8.2)\n",
            "Requirement already satisfied: terminado>=0.8.3 in /usr/local/lib/python3.10/dist-packages (from notebook>=4.4.1->widgetsnbextension~=3.6.0->ipywidgets>=7.6.0->faerun-notebook==0.1.5b0) (0.17.1)\n",
            "Requirement already satisfied: prometheus-client in /usr/local/lib/python3.10/dist-packages (from notebook>=4.4.1->widgetsnbextension~=3.6.0->ipywidgets>=7.6.0->faerun-notebook==0.1.5b0) (0.17.1)\n",
            "Requirement already satisfied: nbclassic>=0.4.7 in /usr/local/lib/python3.10/dist-packages (from notebook>=4.4.1->widgetsnbextension~=3.6.0->ipywidgets>=7.6.0->faerun-notebook==0.1.5b0) (1.0.0)\n",
            "Requirement already satisfied: ptyprocess>=0.5 in /usr/local/lib/python3.10/dist-packages (from pexpect>4.3->ipython>=4.0.0->ipywidgets>=7.6.0->faerun-notebook==0.1.5b0) (0.7.0)\n",
            "Requirement already satisfied: wcwidth in /usr/local/lib/python3.10/dist-packages (from prompt-toolkit!=3.0.0,!=3.0.1,<3.1.0,>=2.0.0->ipython>=4.0.0->ipywidgets>=7.6.0->faerun-notebook==0.1.5b0) (0.2.6)\n",
            "Requirement already satisfied: platformdirs>=2.5 in /usr/local/lib/python3.10/dist-packages (from jupyter-core>=4.6.1->notebook>=4.4.1->widgetsnbextension~=3.6.0->ipywidgets>=7.6.0->faerun-notebook==0.1.5b0) (3.10.0)\n",
            "Requirement already satisfied: jupyter-server>=1.8 in /usr/local/lib/python3.10/dist-packages (from nbclassic>=0.4.7->notebook>=4.4.1->widgetsnbextension~=3.6.0->ipywidgets>=7.6.0->faerun-notebook==0.1.5b0) (1.24.0)\n",
            "Requirement already satisfied: notebook-shim>=0.2.3 in /usr/local/lib/python3.10/dist-packages (from nbclassic>=0.4.7->notebook>=4.4.1->widgetsnbextension~=3.6.0->ipywidgets>=7.6.0->faerun-notebook==0.1.5b0) (0.2.3)\n",
            "Requirement already satisfied: lxml in /usr/local/lib/python3.10/dist-packages (from nbconvert>=5->notebook>=4.4.1->widgetsnbextension~=3.6.0->ipywidgets>=7.6.0->faerun-notebook==0.1.5b0) (4.9.3)\n",
            "Requirement already satisfied: beautifulsoup4 in /usr/local/lib/python3.10/dist-packages (from nbconvert>=5->notebook>=4.4.1->widgetsnbextension~=3.6.0->ipywidgets>=7.6.0->faerun-notebook==0.1.5b0) (4.11.2)\n",
            "Requirement already satisfied: bleach in /usr/local/lib/python3.10/dist-packages (from nbconvert>=5->notebook>=4.4.1->widgetsnbextension~=3.6.0->ipywidgets>=7.6.0->faerun-notebook==0.1.5b0) (6.0.0)\n",
            "Requirement already satisfied: defusedxml in /usr/local/lib/python3.10/dist-packages (from nbconvert>=5->notebook>=4.4.1->widgetsnbextension~=3.6.0->ipywidgets>=7.6.0->faerun-notebook==0.1.5b0) (0.7.1)\n",
            "Requirement already satisfied: entrypoints>=0.2.2 in /usr/local/lib/python3.10/dist-packages (from nbconvert>=5->notebook>=4.4.1->widgetsnbextension~=3.6.0->ipywidgets>=7.6.0->faerun-notebook==0.1.5b0) (0.4)\n",
            "Requirement already satisfied: jupyterlab-pygments in /usr/local/lib/python3.10/dist-packages (from nbconvert>=5->notebook>=4.4.1->widgetsnbextension~=3.6.0->ipywidgets>=7.6.0->faerun-notebook==0.1.5b0) (0.2.2)\n",
            "Requirement already satisfied: MarkupSafe>=2.0 in /usr/local/lib/python3.10/dist-packages (from nbconvert>=5->notebook>=4.4.1->widgetsnbextension~=3.6.0->ipywidgets>=7.6.0->faerun-notebook==0.1.5b0) (2.1.3)\n",
            "Requirement already satisfied: mistune<2,>=0.8.1 in /usr/local/lib/python3.10/dist-packages (from nbconvert>=5->notebook>=4.4.1->widgetsnbextension~=3.6.0->ipywidgets>=7.6.0->faerun-notebook==0.1.5b0) (0.8.4)\n",
            "Requirement already satisfied: nbclient>=0.5.0 in /usr/local/lib/python3.10/dist-packages (from nbconvert>=5->notebook>=4.4.1->widgetsnbextension~=3.6.0->ipywidgets>=7.6.0->faerun-notebook==0.1.5b0) (0.8.0)\n",
            "Requirement already satisfied: pandocfilters>=1.4.1 in /usr/local/lib/python3.10/dist-packages (from nbconvert>=5->notebook>=4.4.1->widgetsnbextension~=3.6.0->ipywidgets>=7.6.0->faerun-notebook==0.1.5b0) (1.5.0)\n",
            "Requirement already satisfied: tinycss2 in /usr/local/lib/python3.10/dist-packages (from nbconvert>=5->notebook>=4.4.1->widgetsnbextension~=3.6.0->ipywidgets>=7.6.0->faerun-notebook==0.1.5b0) (1.2.1)\n",
            "Requirement already satisfied: fastjsonschema in /usr/local/lib/python3.10/dist-packages (from nbformat->notebook>=4.4.1->widgetsnbextension~=3.6.0->ipywidgets>=7.6.0->faerun-notebook==0.1.5b0) (2.18.0)\n",
            "Requirement already satisfied: jsonschema>=2.6 in /usr/local/lib/python3.10/dist-packages (from nbformat->notebook>=4.4.1->widgetsnbextension~=3.6.0->ipywidgets>=7.6.0->faerun-notebook==0.1.5b0) (4.19.0)\n",
            "Requirement already satisfied: argon2-cffi-bindings in /usr/local/lib/python3.10/dist-packages (from argon2-cffi->notebook>=4.4.1->widgetsnbextension~=3.6.0->ipywidgets>=7.6.0->faerun-notebook==0.1.5b0) (21.2.0)\n",
            "Requirement already satisfied: attrs>=22.2.0 in /usr/local/lib/python3.10/dist-packages (from jsonschema>=2.6->nbformat->notebook>=4.4.1->widgetsnbextension~=3.6.0->ipywidgets>=7.6.0->faerun-notebook==0.1.5b0) (23.1.0)\n",
            "Requirement already satisfied: jsonschema-specifications>=2023.03.6 in /usr/local/lib/python3.10/dist-packages (from jsonschema>=2.6->nbformat->notebook>=4.4.1->widgetsnbextension~=3.6.0->ipywidgets>=7.6.0->faerun-notebook==0.1.5b0) (2023.7.1)\n",
            "Requirement already satisfied: referencing>=0.28.4 in /usr/local/lib/python3.10/dist-packages (from jsonschema>=2.6->nbformat->notebook>=4.4.1->widgetsnbextension~=3.6.0->ipywidgets>=7.6.0->faerun-notebook==0.1.5b0) (0.30.2)\n",
            "Requirement already satisfied: rpds-py>=0.7.1 in /usr/local/lib/python3.10/dist-packages (from jsonschema>=2.6->nbformat->notebook>=4.4.1->widgetsnbextension~=3.6.0->ipywidgets>=7.6.0->faerun-notebook==0.1.5b0) (0.10.2)\n",
            "Requirement already satisfied: anyio<4,>=3.1.0 in /usr/local/lib/python3.10/dist-packages (from jupyter-server>=1.8->nbclassic>=0.4.7->notebook>=4.4.1->widgetsnbextension~=3.6.0->ipywidgets>=7.6.0->faerun-notebook==0.1.5b0) (3.7.1)\n",
            "Requirement already satisfied: websocket-client in /usr/local/lib/python3.10/dist-packages (from jupyter-server>=1.8->nbclassic>=0.4.7->notebook>=4.4.1->widgetsnbextension~=3.6.0->ipywidgets>=7.6.0->faerun-notebook==0.1.5b0) (1.6.2)\n",
            "Requirement already satisfied: cffi>=1.0.1 in /usr/local/lib/python3.10/dist-packages (from argon2-cffi-bindings->argon2-cffi->notebook>=4.4.1->widgetsnbextension~=3.6.0->ipywidgets>=7.6.0->faerun-notebook==0.1.5b0) (1.15.1)\n",
            "Requirement already satisfied: soupsieve>1.2 in /usr/local/lib/python3.10/dist-packages (from beautifulsoup4->nbconvert>=5->notebook>=4.4.1->widgetsnbextension~=3.6.0->ipywidgets>=7.6.0->faerun-notebook==0.1.5b0) (2.5)\n",
            "Requirement already satisfied: webencodings in /usr/local/lib/python3.10/dist-packages (from bleach->nbconvert>=5->notebook>=4.4.1->widgetsnbextension~=3.6.0->ipywidgets>=7.6.0->faerun-notebook==0.1.5b0) (0.5.1)\n",
            "Requirement already satisfied: idna>=2.8 in /usr/local/lib/python3.10/dist-packages (from anyio<4,>=3.1.0->jupyter-server>=1.8->nbclassic>=0.4.7->notebook>=4.4.1->widgetsnbextension~=3.6.0->ipywidgets>=7.6.0->faerun-notebook==0.1.5b0) (3.4)\n",
            "Requirement already satisfied: sniffio>=1.1 in /usr/local/lib/python3.10/dist-packages (from anyio<4,>=3.1.0->jupyter-server>=1.8->nbclassic>=0.4.7->notebook>=4.4.1->widgetsnbextension~=3.6.0->ipywidgets>=7.6.0->faerun-notebook==0.1.5b0) (1.3.0)\n",
            "Requirement already satisfied: exceptiongroup in /usr/local/lib/python3.10/dist-packages (from anyio<4,>=3.1.0->jupyter-server>=1.8->nbclassic>=0.4.7->notebook>=4.4.1->widgetsnbextension~=3.6.0->ipywidgets>=7.6.0->faerun-notebook==0.1.5b0) (1.1.3)\n",
            "Requirement already satisfied: pycparser in /usr/local/lib/python3.10/dist-packages (from cffi>=1.0.1->argon2-cffi-bindings->argon2-cffi->notebook>=4.4.1->widgetsnbextension~=3.6.0->ipywidgets>=7.6.0->faerun-notebook==0.1.5b0) (2.21)\n",
            "Building wheels for collected packages: faerun-notebook\n",
            "  Building wheel for faerun-notebook (pyproject.toml) ... \u001b[?25l\u001b[?25hdone\n",
            "  Created wheel for faerun-notebook: filename=faerun_notebook-0.1.5b0-py2.py3-none-any.whl size=470156 sha256=aaf1b69c92fc5412f2752e3a8ad89360f16b035a42b244bb0879848461f49746\n",
            "  Stored in directory: /root/.cache/pip/wheels/92/d6/0e/c24e55ea7bb33143c61a11fb03b609cff740f24875d0bf4fad\n",
            "Successfully built faerun-notebook\n",
            "Installing collected packages: jedi, faerun-notebook\n",
            "Successfully installed faerun-notebook-0.1.5b0 jedi-0.19.0\n"
          ]
        }
      ]
    },
    {
      "cell_type": "code",
      "source": [
        "SmilesDrawer(value=[(\"Rxn\", \"C(C1C(C(C(C(O1)O)O)O)O)O.O=O>>C(=O)=O.O\")], theme='dark', background=\"#1e1e1e\", options={'scale': 1.25})"
      ],
      "metadata": {
        "colab": {
          "base_uri": "https://localhost:8080/",
          "height": 289,
          "referenced_widgets": [
            "1156b16e0d724840b9e1fc1430ce6185",
            "efe6539f5ba4418ab7c5e76225021f91"
          ]
        },
        "id": "4lPi5woV_vyi",
        "outputId": "c2fe1e77-05a6-443c-8347-e136bb866428"
      },
      "execution_count": 4,
      "outputs": [
        {
          "output_type": "display_data",
          "data": {
            "text/plain": [
              "SmilesDrawer(background='#1e1e1e', options={'scale': 1.25}, theme='dark', value=[('Rxn', 'C(C1C(C(C(C(O1)O)O)O…"
            ],
            "application/vnd.jupyter.widget-view+json": {
              "version_major": 2,
              "version_minor": 0,
              "model_id": "1156b16e0d724840b9e1fc1430ce6185"
            }
          },
          "metadata": {
            "application/vnd.jupyter.widget-view+json": {
              "colab": {
                "custom_widget_manager": {
                  "url": "https://ssl.gstatic.com/colaboratory-static/widgets/colab-cdn-widget-manager/b3e629b1971e1542/manager.min.js"
                }
              }
            }
          }
        }
      ]
    },
    {
      "cell_type": "markdown",
      "source": [
        "#**4. Imprime las siguientes operaciones según la notación científica**"
      ],
      "metadata": {
        "id": "aqhf_0g5AKLk"
      }
    },
    {
      "cell_type": "markdown",
      "source": [
        "Imprime las siguientes operaciones según la notación científica:\n",
        "\n",
        "(1) $1.321 \\times 10^{-4} + 8.5 \\times 10^{-2}$\n",
        "\n",
        "(2) $1.71 \\times 10^{3} - 2.01 \\times 10^{2}\\$\n",
        "\n",
        "(3) $(7.4 \\times 10^5)(7.2 \\times 10^4)$\n",
        "\n",
        "(4) $(7.4 \\times 10^5)/(7.2 \\times 10^4)$"
      ],
      "metadata": {
        "id": "CtqyzklQAg3Y"
      }
    },
    {
      "cell_type": "markdown",
      "source": [
        "#**5. Leer el artículo adjunto y explicar cómo es aplicado el método científico. Emplea como máximo 300 palabras.**"
      ],
      "metadata": {
        "id": "FfJ4ub3tOjdj"
      }
    },
    {
      "cell_type": "markdown",
      "source": [
        "El texto se centra en la aplicación del método científico en la investigación sobre el material LK-99, inicialmente considerado como un posible superconductor a temperatura ambiente. Un equipo de científicos surcoreanos planteó esta hipótesis, lo que suscitó interés en la comunidad científica. Sin embargo, otros grupos de investigación intentaron replicar los resultados para verificar esta afirmación.\n",
        "\n",
        "El método científico se implementó en la fase de experimentación, donde se realizaron mediciones de resistividad eléctrica, análisis de impurezas y observaciones del comportamiento magnético de LK-99. Los resultados de estos experimentos llevaron a la conclusión de que LK-99 no era un superconductor a temperatura ambiente, sino un aislante debido a la presencia de impurezas, especialmente sulfuro de cobre (Cu2S).\n",
        "\n",
        "Esta aplicación del método científico enfatiza la importancia de la recopilación de evidencia empírica para validar afirmaciones científicas. El proceso científico requiere pruebas rigurosas y la iteración continua para llegar a conclusiones sólidas. En este caso, la observación inicial, la formulación de hipótesis y la experimentación condujeron a la corrección de la idea inicial sobre las propiedades de LK-99, demostrando la necesidad de un enfoque basado en la evidencia en la investigación científica."
      ],
      "metadata": {
        "id": "fPBFbhZ2Ojxq"
      }
    }
  ]
}