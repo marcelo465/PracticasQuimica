{
  "nbformat": 4,
  "nbformat_minor": 0,
  "metadata": {
    "colab": {
      "provenance": [],
      "authorship_tag": "ABX9TyNuu521YYwYAt5SmrxI79nn",
      "include_colab_link": true
    },
    "kernelspec": {
      "name": "python3",
      "display_name": "Python 3"
    },
    "language_info": {
      "name": "python"
    }
  },
  "cells": [
    {
      "cell_type": "markdown",
      "metadata": {
        "id": "view-in-github",
        "colab_type": "text"
      },
      "source": [
        "<a href=\"https://colab.research.google.com/github/marcelo465/PracticasQuimica/blob/main/Electroquimica_pt_2.ipynb\" target=\"_parent\"><img src=\"https://colab.research.google.com/assets/colab-badge.svg\" alt=\"Open In Colab\"/></a>"
      ]
    },
    {
      "cell_type": "markdown",
      "source": [
        "https://padlet.com/jesusalvarado10/electroqu-mica-parte-2-rhgx6j0swybr1j0y"
      ],
      "metadata": {
        "id": "6aYRhflbYXc0"
      }
    },
    {
      "cell_type": "markdown",
      "source": [
        "3) Comparar de semireacciones e indicar un electrodo de sacrificio con elementos comunes"
      ],
      "metadata": {
        "id": "ihw7fjWdYR4D"
      }
    },
    {
      "cell_type": "code",
      "execution_count": null,
      "metadata": {
        "colab": {
          "base_uri": "https://localhost:8080/"
        },
        "id": "PAQNjV-oWhfj",
        "outputId": "e202bed0-e0bb-466b-f0ae-8fb4c81f0f2f"
      },
      "outputs": [
        {
          "output_type": "stream",
          "name": "stdout",
          "text": [
            "Semirreacción de agente reductor: Zn (2e- + Zn)\n",
            "Semirreacción de agente oxidante: Cu (2e- + Cu)\n",
            "El electrodo de sacrificio es: Cu\n"
          ]
        }
      ],
      "source": [
        "semirreaccion1 = {'especie': 'Zn', 'coeficiente': 2, 'potencial': -0.76}  # Ejemplo: Zn^2+ + 2e- -> Zn\n",
        "semirreaccion2 = {'especie': 'Cu', 'coeficiente': 2, 'potencial': 0.34}   # Ejemplo: Cu^2+ + 2e- -> Cu\n",
        "\n",
        "if semirreaccion1['potencial'] < semirreaccion2['potencial']:\n",
        "    agente_reductor = semirreaccion1\n",
        "    agente_oxidante = semirreaccion2\n",
        "else:\n",
        "    agente_reductor = semirreaccion2\n",
        "    agente_oxidante = semirreaccion1\n",
        "\n",
        "electrodo_sacrificio = agente_oxidante\n",
        "\n",
        "print(f\"Semirreacción de agente reductor: {agente_reductor['especie']} ({agente_reductor['coeficiente']}e- + {agente_reductor['especie']})\")\n",
        "print(f\"Semirreacción de agente oxidante: {agente_oxidante['especie']} ({agente_oxidante['coeficiente']}e- + {agente_oxidante['especie']})\")\n",
        "print(f\"El electrodo de sacrificio es: {electrodo_sacrificio['especie']}\")"
      ]
    }
  ]
}